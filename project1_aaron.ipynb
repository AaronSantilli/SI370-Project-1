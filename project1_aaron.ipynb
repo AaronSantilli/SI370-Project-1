{
 "cells": [
  {
   "cell_type": "code",
   "execution_count": 279,
   "metadata": {},
   "outputs": [],
   "source": [
    "import pandas as pd\n",
    "import re\n",
    "import seaborn as sns\n",
    "import statsmodels.api as sm\n",
    "import statsmodels.formula.api as smf\n",
    "import numpy as np"
   ]
  },
  {
   "cell_type": "code",
   "execution_count": 280,
   "metadata": {},
   "outputs": [],
   "source": [
    "def labelled_scatterplot(data=None,x=None,y=None,labs=None):\n",
    "    p1 = sns.scatterplot(data=data,x=x,y=y)\n",
    "    for line in range(0,data.shape[0]):\n",
    "        p1.text(data[x][line]+0.01, data[y][line], \n",
    "                data[labs][line], horizontalalignment='left', \n",
    "                size='medium', color='black')"
   ]
  },
  {
   "cell_type": "code",
   "execution_count": 281,
   "metadata": {},
   "outputs": [],
   "source": [
    "data = pd.read_csv('nyc_real_estate.csv', index_col=False)"
   ]
  },
  {
   "cell_type": "code",
   "execution_count": 282,
   "metadata": {},
   "outputs": [
    {
     "name": "stdout",
     "output_type": "stream",
     "text": [
      "<class 'pandas.core.frame.DataFrame'>\n",
      "RangeIndex: 387 entries, 0 to 386\n",
      "Data columns (total 11 columns):\n",
      " #   Column           Non-Null Count  Dtype \n",
      "---  ------           --------------  ----- \n",
      " 0   Unnamed: 0       387 non-null    int64 \n",
      " 1   Name             387 non-null    object\n",
      " 2   City             387 non-null    object\n",
      " 3   Neighbourhood    387 non-null    object\n",
      " 4   Price            387 non-null    object\n",
      " 5   Year Built       387 non-null    object\n",
      " 6   Beds             387 non-null    object\n",
      " 7   Baths            387 non-null    object\n",
      " 8   Area             387 non-null    object\n",
      " 9   Price(per sqft)  387 non-null    object\n",
      " 10  A/C              387 non-null    object\n",
      "dtypes: int64(1), object(10)\n",
      "memory usage: 33.4+ KB\n"
     ]
    }
   ],
   "source": [
    "data.info()"
   ]
  },
  {
   "cell_type": "code",
   "execution_count": 283,
   "metadata": {},
   "outputs": [],
   "source": [
    "data = data.drop(labels = ['Unnamed: 0'], axis = 1)"
   ]
  },
  {
   "cell_type": "code",
   "execution_count": 284,
   "metadata": {},
   "outputs": [],
   "source": [
    "data.rename(columns = {\"Area\" : \"Area (sqft)\"}, inplace = True)"
   ]
  },
  {
   "cell_type": "code",
   "execution_count": 285,
   "metadata": {},
   "outputs": [],
   "source": [
    "data = data.replace(\"Null\", pd.NA).dropna()"
   ]
  },
  {
   "cell_type": "code",
   "execution_count": 286,
   "metadata": {},
   "outputs": [
    {
     "name": "stderr",
     "output_type": "stream",
     "text": [
      "<ipython-input-286-ad71304e4ed8>:1: FutureWarning: The default value of regex will change from True to False in a future version. In addition, single character regular expressions will*not* be treated as literal strings when regex=True.\n",
      "  data['Price'] = data['Price'].str.replace('$', '')\n"
     ]
    }
   ],
   "source": [
    "data['Price'] = data['Price'].str.replace('$', '')"
   ]
  },
  {
   "cell_type": "code",
   "execution_count": 287,
   "metadata": {},
   "outputs": [],
   "source": [
    "data['Baths'] = data['Baths'].str.replace('Baths', '')"
   ]
  },
  {
   "cell_type": "code",
   "execution_count": 288,
   "metadata": {},
   "outputs": [],
   "source": [
    "data['Baths'] = data['Baths'].str.replace('Bath', '')"
   ]
  },
  {
   "cell_type": "code",
   "execution_count": 289,
   "metadata": {},
   "outputs": [],
   "source": [
    "data['Year Built'] = data['Year Built'].apply(lambda x : int(x[-4:]))"
   ]
  },
  {
   "cell_type": "code",
   "execution_count": 290,
   "metadata": {},
   "outputs": [
    {
     "name": "stderr",
     "output_type": "stream",
     "text": [
      "<ipython-input-290-e92f6f8bb8f4>:5: FutureWarning: The default value of regex will change from True to False in a future version. In addition, single character regular expressions will*not* be treated as literal strings when regex=True.\n",
      "  data['Price(per sqft)'] = data['Price(per sqft)'].str.replace('$', '')\n"
     ]
    }
   ],
   "source": [
    "data['Beds'] = data['Beds'].apply(lambda x : x[0])\n",
    "data['Beds'] = data['Beds'].replace('S', 0.5)\n",
    "data['Beds'] = data['Beds'].apply(lambda x : int(x))\n",
    "data['Price'] = data['Price'].str.replace(',', '').astype(int)\n",
    "data['Price(per sqft)'] = data['Price(per sqft)'].str.replace('$', '')\n",
    "data['Price(per sqft)'] = data['Price(per sqft)'].str.replace(',', '').astype(int)\n",
    "data['Area (sqft)'] = data['Area (sqft)'].apply(lambda x : x.strip('sqft'))\n",
    "data['Area (sqft)'] = data['Area (sqft)'].str.replace(',', '')\n",
    "data['Area (sqft)'] = data['Area (sqft)'].apply(lambda x : int(re.search(r'\\d+', x).group()))"
   ]
  },
  {
   "cell_type": "code",
   "execution_count": 291,
   "metadata": {},
   "outputs": [
    {
     "data": {
      "text/html": [
       "<div>\n",
       "<style scoped>\n",
       "    .dataframe tbody tr th:only-of-type {\n",
       "        vertical-align: middle;\n",
       "    }\n",
       "\n",
       "    .dataframe tbody tr th {\n",
       "        vertical-align: top;\n",
       "    }\n",
       "\n",
       "    .dataframe thead th {\n",
       "        text-align: right;\n",
       "    }\n",
       "</style>\n",
       "<table border=\"1\" class=\"dataframe\">\n",
       "  <thead>\n",
       "    <tr style=\"text-align: right;\">\n",
       "      <th></th>\n",
       "      <th>Name</th>\n",
       "      <th>City</th>\n",
       "      <th>Neighbourhood</th>\n",
       "      <th>Price</th>\n",
       "      <th>Year Built</th>\n",
       "      <th>Beds</th>\n",
       "      <th>Baths</th>\n",
       "      <th>Area (sqft)</th>\n",
       "      <th>Price(per sqft)</th>\n",
       "      <th>A/C</th>\n",
       "    </tr>\n",
       "  </thead>\n",
       "  <tbody>\n",
       "    <tr>\n",
       "      <th>1</th>\n",
       "      <td>37-26 32nd St #5K</td>\n",
       "      <td>Long Island City, NY 11101</td>\n",
       "      <td>Astoria</td>\n",
       "      <td>620000</td>\n",
       "      <td>2022</td>\n",
       "      <td>0</td>\n",
       "      <td>1</td>\n",
       "      <td>441</td>\n",
       "      <td>1406</td>\n",
       "      <td>Cooling only</td>\n",
       "    </tr>\n",
       "    <tr>\n",
       "      <th>2</th>\n",
       "      <td>37-26 32nd St #3G</td>\n",
       "      <td>Long Island City, NY 11101</td>\n",
       "      <td>Astoria</td>\n",
       "      <td>730000</td>\n",
       "      <td>2022</td>\n",
       "      <td>1</td>\n",
       "      <td>1</td>\n",
       "      <td>579</td>\n",
       "      <td>1261</td>\n",
       "      <td>Cooling only</td>\n",
       "    </tr>\n",
       "    <tr>\n",
       "      <th>3</th>\n",
       "      <td>37-26 32nd St #6L</td>\n",
       "      <td>Long Island City, NY 11101</td>\n",
       "      <td>Astoria</td>\n",
       "      <td>570000</td>\n",
       "      <td>2022</td>\n",
       "      <td>0</td>\n",
       "      <td>1</td>\n",
       "      <td>429</td>\n",
       "      <td>1329</td>\n",
       "      <td>Cooling only</td>\n",
       "    </tr>\n",
       "    <tr>\n",
       "      <th>4</th>\n",
       "      <td>37-26 32nd St #3H</td>\n",
       "      <td>Long Island City, NY 11101</td>\n",
       "      <td>Astoria</td>\n",
       "      <td>695000</td>\n",
       "      <td>2022</td>\n",
       "      <td>1</td>\n",
       "      <td>1</td>\n",
       "      <td>632</td>\n",
       "      <td>1100</td>\n",
       "      <td>No</td>\n",
       "    </tr>\n",
       "    <tr>\n",
       "      <th>6</th>\n",
       "      <td>2736 Independence Ave #6J</td>\n",
       "      <td>Bronx, NY 10463</td>\n",
       "      <td>Spuyten Duyvil</td>\n",
       "      <td>235995</td>\n",
       "      <td>1970</td>\n",
       "      <td>1</td>\n",
       "      <td>1</td>\n",
       "      <td>850</td>\n",
       "      <td>278</td>\n",
       "      <td>No</td>\n",
       "    </tr>\n",
       "  </tbody>\n",
       "</table>\n",
       "</div>"
      ],
      "text/plain": [
       "                        Name                        City   Neighbourhood  \\\n",
       "1          37-26 32nd St #5K  Long Island City, NY 11101         Astoria   \n",
       "2          37-26 32nd St #3G  Long Island City, NY 11101         Astoria   \n",
       "3          37-26 32nd St #6L  Long Island City, NY 11101         Astoria   \n",
       "4          37-26 32nd St #3H  Long Island City, NY 11101         Astoria   \n",
       "6  2736 Independence Ave #6J             Bronx, NY 10463  Spuyten Duyvil   \n",
       "\n",
       "    Price  Year Built  Beds Baths  Area (sqft)  Price(per sqft)           A/C  \n",
       "1  620000        2022     0    1           441             1406  Cooling only  \n",
       "2  730000        2022     1    1           579             1261  Cooling only  \n",
       "3  570000        2022     0    1           429             1329  Cooling only  \n",
       "4  695000        2022     1    1           632             1100            No  \n",
       "6  235995        1970     1    1           850              278            No  "
      ]
     },
     "execution_count": 291,
     "metadata": {},
     "output_type": "execute_result"
    }
   ],
   "source": [
    "data.head()"
   ]
  },
  {
   "cell_type": "code",
   "execution_count": 292,
   "metadata": {},
   "outputs": [
    {
     "data": {
      "text/html": [
       "<div>\n",
       "<style scoped>\n",
       "    .dataframe tbody tr th:only-of-type {\n",
       "        vertical-align: middle;\n",
       "    }\n",
       "\n",
       "    .dataframe tbody tr th {\n",
       "        vertical-align: top;\n",
       "    }\n",
       "\n",
       "    .dataframe thead th {\n",
       "        text-align: right;\n",
       "    }\n",
       "</style>\n",
       "<table border=\"1\" class=\"dataframe\">\n",
       "  <thead>\n",
       "    <tr style=\"text-align: right;\">\n",
       "      <th></th>\n",
       "      <th>var1</th>\n",
       "      <th>var2</th>\n",
       "      <th>correlation</th>\n",
       "    </tr>\n",
       "  </thead>\n",
       "  <tbody>\n",
       "    <tr>\n",
       "      <th>1</th>\n",
       "      <td>Price</td>\n",
       "      <td>Area (sqft)</td>\n",
       "      <td>0.829771</td>\n",
       "    </tr>\n",
       "    <tr>\n",
       "      <th>2</th>\n",
       "      <td>Year Built</td>\n",
       "      <td>Price(per sqft)</td>\n",
       "      <td>0.744994</td>\n",
       "    </tr>\n",
       "    <tr>\n",
       "      <th>3</th>\n",
       "      <td>Year Built</td>\n",
       "      <td>Area (sqft)</td>\n",
       "      <td>-0.614899</td>\n",
       "    </tr>\n",
       "    <tr>\n",
       "      <th>4</th>\n",
       "      <td>Price(per sqft)</td>\n",
       "      <td>Area (sqft)</td>\n",
       "      <td>-0.579244</td>\n",
       "    </tr>\n",
       "    <tr>\n",
       "      <th>5</th>\n",
       "      <td>Price</td>\n",
       "      <td>Year Built</td>\n",
       "      <td>-0.561095</td>\n",
       "    </tr>\n",
       "  </tbody>\n",
       "</table>\n",
       "</div>"
      ],
      "text/plain": [
       "              var1             var2  correlation\n",
       "1            Price      Area (sqft)     0.829771\n",
       "2       Year Built  Price(per sqft)     0.744994\n",
       "3       Year Built      Area (sqft)    -0.614899\n",
       "4  Price(per sqft)      Area (sqft)    -0.579244\n",
       "5            Price       Year Built    -0.561095"
      ]
     },
     "execution_count": 292,
     "metadata": {},
     "output_type": "execute_result"
    }
   ],
   "source": [
    "# Insert your code here\n",
    "output = data[3:7].corr()#.unstack().sort_values(ascending=False).reset_index()\n",
    "output = output.unstack().sort_values(key=abs, ascending=False).drop_duplicates().reset_index()\n",
    "output.columns = ['var1', 'var2', 'correlation']\n",
    "mask = output.apply(lambda x: x.var1 != x.var2, axis=1)\n",
    "output = output[mask]\n",
    "output[:5]"
   ]
  },
  {
   "cell_type": "code",
   "execution_count": 301,
   "metadata": {},
   "outputs": [],
   "source": [
    "data_pca = data[['Price', 'Year Built', 'Beds', 'Baths', 'Area (sqft)', 'Price(per sqft)']]"
   ]
  },
  {
   "cell_type": "code",
   "execution_count": 302,
   "metadata": {},
   "outputs": [],
   "source": [
    "houses_X = data_pca.values\n",
    "houses_Y = data_pca.index"
   ]
  },
  {
   "cell_type": "code",
   "execution_count": 303,
   "metadata": {},
   "outputs": [
    {
     "data": {
      "text/plain": [
       "array([[-0.40496747,  1.22476924, -1.17998832, -0.78875229, -0.24760062,\n",
       "         1.33442156],\n",
       "       [-0.27509971,  1.22476924, -0.55514218, -0.78875229, -0.24053395,\n",
       "         1.00685759],\n",
       "       [-0.46399827,  1.22476924, -1.17998832, -0.78875229, -0.24821511,\n",
       "         1.16047379],\n",
       "       ...,\n",
       "       [ 0.51000991,  0.92929766,  0.06970395, -0.03884008, -0.20950206,\n",
       "         0.81709639],\n",
       "       [-0.80649497,  0.21172381,  0.06970395, -0.78875229, -0.21385472,\n",
       "        -1.26801774],\n",
       "       [ 0.14874142,  0.02177779,  1.31939622,  0.71107214, -0.17293974,\n",
       "        -0.547377  ]])"
      ]
     },
     "execution_count": 303,
     "metadata": {},
     "output_type": "execute_result"
    }
   ],
   "source": [
    "from sklearn.preprocessing import scale\n",
    "scale(houses_X)"
   ]
  },
  {
   "cell_type": "code",
   "execution_count": 304,
   "metadata": {},
   "outputs": [],
   "source": [
    "from sklearn.decomposition import PCA\n",
    "\n",
    "pca = PCA(n_components=2)\n",
    "X_pca = pca.fit_transform(scale(houses_X))"
   ]
  },
  {
   "cell_type": "code",
   "execution_count": 306,
   "metadata": {},
   "outputs": [],
   "source": [
    "X_pca_labelled = pd.concat([pd.DataFrame({'who':houses_Y}),pd.DataFrame(X_pca,columns=['pca1','pca2'])],axis=1)"
   ]
  },
  {
   "cell_type": "code",
   "execution_count": 307,
   "metadata": {},
   "outputs": [
    {
     "data": {
      "image/png": "[encoded data removed]",
      "text/plain": [
       "<Figure size 432x288 with 1 Axes>"
      ]
     },
     "metadata": {
      "needs_background": "light"
     },
     "output_type": "display_data"
    }
   ],
   "source": [
    "labelled_scatterplot(data=X_pca_labelled,x='pca1',y='pca2',labs='who')"
   ]
  },
  {
   "cell_type": "code",
   "execution_count": 308,
   "metadata": {},
   "outputs": [
    {
     "data": {
      "text/plain": [
       "array([2.94888652, 1.50753934])"
      ]
     },
     "execution_count": 308,
     "metadata": {},
     "output_type": "execute_result"
    }
   ],
   "source": [
    "pca.explained_variance_"
   ]
  },
  {
   "cell_type": "code",
   "execution_count": 309,
   "metadata": {},
   "outputs": [
    {
     "data": {
      "text/plain": [
       "array([[ 0.34133892,  0.26140978,  0.40705554, ..., -0.3056848 ,\n",
       "         0.78705912, -0.3808844 ],\n",
       "       [ 0.26140978,  0.20019713,  0.31173796, ..., -0.23410456,\n",
       "         0.60275855, -0.29169515],\n",
       "       [ 0.40705554,  0.31173796,  0.48542432, ..., -0.36453708,\n",
       "         0.93858848, -0.45421456],\n",
       "       ...,\n",
       "       [-0.3056848 , -0.23410456, -0.36453708, ...,  0.27375489,\n",
       "        -0.70484788,  0.34109962],\n",
       "       [ 0.78705912,  0.60275855,  0.93858848, ..., -0.70484788,\n",
       "         1.81480058, -0.87824309],\n",
       "       [-0.3808844 , -0.29169515, -0.45421456, ...,  0.34109962,\n",
       "        -0.87824309,  0.42501139]])"
      ]
     },
     "execution_count": 309,
     "metadata": {},
     "output_type": "execute_result"
    }
   ],
   "source": [
    "np.cov(X_pca)"
   ]
  },
  {
   "cell_type": "code",
   "execution_count": 310,
   "metadata": {},
   "outputs": [
    {
     "data": {
      "text/plain": [
       "array([0.48952299, 0.25025554])"
      ]
     },
     "execution_count": 310,
     "metadata": {},
     "output_type": "execute_result"
    }
   ],
   "source": [
    "pca.explained_variance_ratio_"
   ]
  },
  {
   "cell_type": "code",
   "execution_count": null,
   "metadata": {},
   "outputs": [
    {
     "data": {
      "text/plain": [
       "<AxesSubplot:>"
      ]
     },
     "execution_count": 250,
     "metadata": {},
     "output_type": "execute_result"
    },
    {
     "data": {
      "image/png": "[encoded data removed]",
      "text/plain": [
       "<Figure size 432x288 with 2 Axes>"
      ]
     },
     "metadata": {
      "needs_background": "light"
     },
     "output_type": "display_data"
    }
   ],
   "source": [
    "sns.heatmap(data.corr(), annot=True, fmt=\".2f\", cmap=\"coolwarm\")"
   ]
  },
  {
   "cell_type": "code",
   "execution_count": null,
   "metadata": {},
   "outputs": [
    {
     "data": {
      "text/html": [
       "<table class=\"simpletable\">\n",
       "<caption>OLS Regression Results</caption>\n",
       "<tr>\n",
       "  <th>Dep. Variable:</th>     <td>Q(\"Year Built\")</td> <th>  R-squared:         </th> <td>   0.541</td>\n",
       "</tr>\n",
       "<tr>\n",
       "  <th>Model:</th>                   <td>OLS</td>       <th>  Adj. R-squared:    </th> <td>   0.532</td>\n",
       "</tr>\n",
       "<tr>\n",
       "  <th>Method:</th>             <td>Least Squares</td>  <th>  F-statistic:       </th> <td>   57.81</td>\n",
       "</tr>\n",
       "<tr>\n",
       "  <th>Date:</th>             <td>Thu, 16 Nov 2023</td> <th>  Prob (F-statistic):</th> <td>1.45e-39</td>\n",
       "</tr>\n",
       "<tr>\n",
       "  <th>Time:</th>                 <td>11:54:28</td>     <th>  Log-Likelihood:    </th> <td> -1226.8</td>\n",
       "</tr>\n",
       "<tr>\n",
       "  <th>No. Observations:</th>      <td>   251</td>      <th>  AIC:               </th> <td>   2466.</td>\n",
       "</tr>\n",
       "<tr>\n",
       "  <th>Df Residuals:</th>          <td>   245</td>      <th>  BIC:               </th> <td>   2487.</td>\n",
       "</tr>\n",
       "<tr>\n",
       "  <th>Df Model:</th>              <td>     5</td>      <th>                     </th>     <td> </td>   \n",
       "</tr>\n",
       "<tr>\n",
       "  <th>Covariance Type:</th>      <td>nonrobust</td>    <th>                     </th>     <td> </td>   \n",
       "</tr>\n",
       "</table>\n",
       "<table class=\"simpletable\">\n",
       "<tr>\n",
       "       <td></td>          <th>coef</th>     <th>std err</th>      <th>t</th>      <th>P>|t|</th>  <th>[0.025</th>    <th>0.975]</th>  \n",
       "</tr>\n",
       "<tr>\n",
       "  <th>Intercept</th>   <td> 1990.1589</td> <td>    3.140</td> <td>  633.768</td> <td> 0.000</td> <td> 1983.974</td> <td> 1996.344</td>\n",
       "</tr>\n",
       "<tr>\n",
       "  <th>Baths[T.2 ]</th> <td>  -26.1270</td> <td>    4.592</td> <td>   -5.690</td> <td> 0.000</td> <td>  -35.172</td> <td>  -17.082</td>\n",
       "</tr>\n",
       "<tr>\n",
       "  <th>Baths[T.3 ]</th> <td>  -25.1589</td> <td>   10.741</td> <td>   -2.342</td> <td> 0.020</td> <td>  -46.316</td> <td>   -4.002</td>\n",
       "</tr>\n",
       "<tr>\n",
       "  <th>Baths[T.4 ]</th> <td>  -85.6589</td> <td>    7.913</td> <td>  -10.825</td> <td> 0.000</td> <td> -101.245</td> <td>  -70.073</td>\n",
       "</tr>\n",
       "<tr>\n",
       "  <th>Baths[T.5 ]</th> <td>  -70.1589</td> <td>   10.741</td> <td>   -6.532</td> <td> 0.000</td> <td>  -91.316</td> <td>  -49.002</td>\n",
       "</tr>\n",
       "<tr>\n",
       "  <th>Baths[T.6 ]</th> <td> -145.1589</td> <td>   10.741</td> <td>  -13.514</td> <td> 0.000</td> <td> -166.316</td> <td> -124.002</td>\n",
       "</tr>\n",
       "</table>\n",
       "<table class=\"simpletable\">\n",
       "<tr>\n",
       "  <th>Omnibus:</th>       <td>12.783</td> <th>  Durbin-Watson:     </th> <td>   1.291</td>\n",
       "</tr>\n",
       "<tr>\n",
       "  <th>Prob(Omnibus):</th> <td> 0.002</td> <th>  Jarque-Bera (JB):  </th> <td>   5.946</td>\n",
       "</tr>\n",
       "<tr>\n",
       "  <th>Skew:</th>          <td>-0.118</td> <th>  Prob(JB):          </th> <td>  0.0512</td>\n",
       "</tr>\n",
       "<tr>\n",
       "  <th>Kurtosis:</th>      <td> 2.284</td> <th>  Cond. No.          </th> <td>    6.39</td>\n",
       "</tr>\n",
       "</table><br/><br/>Notes:<br/>[1] Standard Errors assume that the covariance matrix of the errors is correctly specified."
      ],
      "text/plain": [
       "<class 'statsmodels.iolib.summary.Summary'>\n",
       "\"\"\"\n",
       "                            OLS Regression Results                            \n",
       "==============================================================================\n",
       "Dep. Variable:        Q(\"Year Built\")   R-squared:                       0.541\n",
       "Model:                            OLS   Adj. R-squared:                  0.532\n",
       "Method:                 Least Squares   F-statistic:                     57.81\n",
       "Date:                Thu, 16 Nov 2023   Prob (F-statistic):           1.45e-39\n",
       "Time:                        11:54:28   Log-Likelihood:                -1226.8\n",
       "No. Observations:                 251   AIC:                             2466.\n",
       "Df Residuals:                     245   BIC:                             2487.\n",
       "Df Model:                           5                                         \n",
       "Covariance Type:            nonrobust                                         \n",
       "===============================================================================\n",
       "                  coef    std err          t      P>|t|      [0.025      0.975]\n",
       "-------------------------------------------------------------------------------\n",
       "Intercept    1990.1589      3.140    633.768      0.000    1983.974    1996.344\n",
       "Baths[T.2 ]   -26.1270      4.592     -5.690      0.000     -35.172     -17.082\n",
       "Baths[T.3 ]   -25.1589     10.741     -2.342      0.020     -46.316      -4.002\n",
       "Baths[T.4 ]   -85.6589      7.913    -10.825      0.000    -101.245     -70.073\n",
       "Baths[T.5 ]   -70.1589     10.741     -6.532      0.000     -91.316     -49.002\n",
       "Baths[T.6 ]  -145.1589     10.741    -13.514      0.000    -166.316    -124.002\n",
       "==============================================================================\n",
       "Omnibus:                       12.783   Durbin-Watson:                   1.291\n",
       "Prob(Omnibus):                  0.002   Jarque-Bera (JB):                5.946\n",
       "Skew:                          -0.118   Prob(JB):                       0.0512\n",
       "Kurtosis:                       2.284   Cond. No.                         6.39\n",
       "==============================================================================\n",
       "\n",
       "Notes:\n",
       "[1] Standard Errors assume that the covariance matrix of the errors is correctly specified.\n",
       "\"\"\""
      ]
     },
     "execution_count": 251,
     "metadata": {},
     "output_type": "execute_result"
    }
   ],
   "source": [
    "formula = 'Q(\"Year Built\") ~ Baths'\n",
    "model = smf.ols(formula=formula, data=data).fit()\n",
    "model.summary()"
   ]
  }
 ],
 "metadata": {
  "kernelspec": {
   "display_name": "base",
   "language": "python",
   "name": "python3"
  },
  "language_info": {
   "codemirror_mode": {
    "name": "ipython",
    "version": 3
   },
   "file_extension": ".py",
   "mimetype": "text/x-python",
   "name": "python",
   "nbconvert_exporter": "python",
   "pygments_lexer": "ipython3",
   "version": "3.8.8"
  }
 },
 "nbformat": 4,
 "nbformat_minor": 2
}
