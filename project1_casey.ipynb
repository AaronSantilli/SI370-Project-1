{
 "cells": [
  {
   "cell_type": "code",
   "execution_count": 195,
   "metadata": {},
   "outputs": [],
   "source": [
    "import pandas as pd\n",
    "import numpy as np\n",
    "import seaborn as sns\n",
    "import matplotlib.pyplot as plt\n",
    "import statsmodels.api as sm\n",
    "from statsmodels.formula.api import ols\n",
    "from statsmodels.stats.anova import anova_lm\n",
    "import re\n",
    "import statsmodels.formula.api as smf\n",
    "import pandas as pd\n",
    "from sklearn.model_selection import train_test_split\n",
    "from sklearn.linear_model import LinearRegression\n",
    "from sklearn.metrics import mean_squared_error\n",
    "import matplotlib.pyplot as plt\n",
    "from sklearn import svm\n",
    "from sklearn.metrics import accuracy_score\n",
    "from sklearn.metrics import classification_report, confusion_matrix\n",
    "from sklearn.metrics import accuracy_score\n",
    "from sklearn.naive_bayes import GaussianNB\n",
    "from sklearn.tree import DecisionTreeClassifier\n",
    "from sklearn.tree import export_graphviz\n",
    "from sklearn.model_selection import train_test_split\n",
    "from sklearn.metrics import accuracy_score\n",
    "from IPython.display import Image\n",
    "import matplotlib.pyplot as plt\n",
    "from sklearn.tree import plot_tree"
   ]
  },
  {
   "cell_type": "code",
   "execution_count": 196,
   "metadata": {},
   "outputs": [],
   "source": [
    "data = pd.read_csv('nyc_real_estate.csv', index_col=False)"
   ]
  },
  {
   "cell_type": "code",
   "execution_count": 197,
   "metadata": {},
   "outputs": [
    {
     "name": "stdout",
     "output_type": "stream",
     "text": [
      "<class 'pandas.core.frame.DataFrame'>\n",
      "RangeIndex: 387 entries, 0 to 386\n",
      "Data columns (total 11 columns):\n",
      " #   Column           Non-Null Count  Dtype \n",
      "---  ------           --------------  ----- \n",
      " 0   Unnamed: 0       387 non-null    int64 \n",
      " 1   Name             387 non-null    object\n",
      " 2   City             387 non-null    object\n",
      " 3   Neighbourhood    387 non-null    object\n",
      " 4   Price            387 non-null    object\n",
      " 5   Year Built       387 non-null    object\n",
      " 6   Beds             387 non-null    object\n",
      " 7   Baths            387 non-null    object\n",
      " 8   Area             387 non-null    object\n",
      " 9   Price(per sqft)  387 non-null    object\n",
      " 10  A/C              387 non-null    object\n",
      "dtypes: int64(1), object(10)\n",
      "memory usage: 33.4+ KB\n"
     ]
    }
   ],
   "source": [
    "data.info()"
   ]
  },
  {
   "cell_type": "code",
   "execution_count": 198,
   "metadata": {},
   "outputs": [
    {
     "name": "stderr",
     "output_type": "stream",
     "text": [
      "/var/folders/bm/7gfzqmk92w7f0g15qhnh3_1h0000gn/T/ipykernel_49690/3189022513.py:4: FutureWarning: The default value of regex will change from True to False in a future version. In addition, single character regular expressions will *not* be treated as literal strings when regex=True.\n",
      "  data['Price'] = data['Price'].str.replace('$', '')\n",
      "/var/folders/bm/7gfzqmk92w7f0g15qhnh3_1h0000gn/T/ipykernel_49690/3189022513.py:18: FutureWarning: The default value of regex will change from True to False in a future version. In addition, single character regular expressions will *not* be treated as literal strings when regex=True.\n",
      "  data['Price(per sqft)'] = data['Price(per sqft)'].str.replace('$', '')\n"
     ]
    }
   ],
   "source": [
    "data.rename(columns = {\"Area\" : \"Area (sqft)\"}, inplace = True)\n",
    "data = data.drop(labels = ['Unnamed: 0'], axis = 1)\n",
    "data = data.replace(\"Null\", pd.NA).dropna()\n",
    "data['Price'] = data['Price'].str.replace('$', '')\n",
    "data['Baths_cleaned'] = data['Baths'].str.replace('Baths', '')\n",
    "data['Baths_cleaned'] = data['Baths_cleaned'].str.replace('Bath', '')\n",
    "data['Year Built'] = data['Year Built'].apply(lambda x : x[-4:])\n",
    "data['Area (sqft)']= data['Area (sqft)'].apply(lambda x: x.strip('sqft'))\n",
    "data['Area (sqft)']= data['Area (sqft)'].str.replace(',', '')\n",
    "data['Beds'] = data['Beds'].apply(lambda x : x[0])\n",
    "data['Beds'] = data['Beds'].replace('S', 0.5)\n",
    "data['Price'] = data['Price'].str.replace(',', '').astype(int)\n",
    "data['Beds'] = data['Beds'].apply(lambda x: int(x))\n",
    "data['Year Built'] = data['Year Built'].apply(lambda x : int(x[-4:]))\n",
    "data['Beds'] = data['Beds'].replace('S', 0.5)\n",
    "#data['Price'] = data['Price'].apply(lambda x: int(re.search(r'\\d+', x).group()))\n",
    "data['Beds'] = data['Beds'].apply(lambda x : int(x))\n",
    "data['Price(per sqft)'] = data['Price(per sqft)'].str.replace('$', '')\n",
    "data['Price(per sqft)'] = data['Price(per sqft)'].str.replace(',', '').astype(int)\n",
    "data['Area (sqft)'] = data['Area (sqft)'].apply(lambda x : x.strip('sqft'))\n",
    "data['Area (sqft)'] = data['Area (sqft)'].str.replace(',', '')\n",
    "data['Area (sqft)'] = data['Area (sqft)'].apply(lambda x : int(re.search(r'\\d+', x).group()))"
   ]
  },
  {
   "cell_type": "code",
   "execution_count": 202,
   "metadata": {},
   "outputs": [
    {
     "data": {
      "text/html": [
       "<div>\n",
       "<style scoped>\n",
       "    .dataframe tbody tr th:only-of-type {\n",
       "        vertical-align: middle;\n",
       "    }\n",
       "\n",
       "    .dataframe tbody tr th {\n",
       "        vertical-align: top;\n",
       "    }\n",
       "\n",
       "    .dataframe thead th {\n",
       "        text-align: right;\n",
       "    }\n",
       "</style>\n",
       "<table border=\"1\" class=\"dataframe\">\n",
       "  <thead>\n",
       "    <tr style=\"text-align: right;\">\n",
       "      <th></th>\n",
       "      <th>Name</th>\n",
       "      <th>City</th>\n",
       "      <th>Neighbourhood</th>\n",
       "      <th>Price</th>\n",
       "      <th>Year Built</th>\n",
       "      <th>Beds</th>\n",
       "      <th>Baths</th>\n",
       "      <th>Area (sqft)</th>\n",
       "      <th>Price(per sqft)</th>\n",
       "      <th>A/C</th>\n",
       "      <th>Baths_cleaned</th>\n",
       "    </tr>\n",
       "  </thead>\n",
       "  <tbody>\n",
       "    <tr>\n",
       "      <th>1</th>\n",
       "      <td>37-26 32nd St #5K</td>\n",
       "      <td>Long Island City, NY 11101</td>\n",
       "      <td>Astoria</td>\n",
       "      <td>620000</td>\n",
       "      <td>2022</td>\n",
       "      <td>0</td>\n",
       "      <td>1 Bath</td>\n",
       "      <td>441</td>\n",
       "      <td>1406</td>\n",
       "      <td>Cooling only</td>\n",
       "      <td>1</td>\n",
       "    </tr>\n",
       "    <tr>\n",
       "      <th>2</th>\n",
       "      <td>37-26 32nd St #3G</td>\n",
       "      <td>Long Island City, NY 11101</td>\n",
       "      <td>Astoria</td>\n",
       "      <td>730000</td>\n",
       "      <td>2022</td>\n",
       "      <td>1</td>\n",
       "      <td>1 Bath</td>\n",
       "      <td>579</td>\n",
       "      <td>1261</td>\n",
       "      <td>Cooling only</td>\n",
       "      <td>1</td>\n",
       "    </tr>\n",
       "    <tr>\n",
       "      <th>3</th>\n",
       "      <td>37-26 32nd St #6L</td>\n",
       "      <td>Long Island City, NY 11101</td>\n",
       "      <td>Astoria</td>\n",
       "      <td>570000</td>\n",
       "      <td>2022</td>\n",
       "      <td>0</td>\n",
       "      <td>1 Bath</td>\n",
       "      <td>429</td>\n",
       "      <td>1329</td>\n",
       "      <td>Cooling only</td>\n",
       "      <td>1</td>\n",
       "    </tr>\n",
       "    <tr>\n",
       "      <th>4</th>\n",
       "      <td>37-26 32nd St #3H</td>\n",
       "      <td>Long Island City, NY 11101</td>\n",
       "      <td>Astoria</td>\n",
       "      <td>695000</td>\n",
       "      <td>2022</td>\n",
       "      <td>1</td>\n",
       "      <td>1 Bath</td>\n",
       "      <td>632</td>\n",
       "      <td>1100</td>\n",
       "      <td>No</td>\n",
       "      <td>1</td>\n",
       "    </tr>\n",
       "    <tr>\n",
       "      <th>6</th>\n",
       "      <td>2736 Independence Ave #6J</td>\n",
       "      <td>Bronx, NY 10463</td>\n",
       "      <td>Spuyten Duyvil</td>\n",
       "      <td>235995</td>\n",
       "      <td>1970</td>\n",
       "      <td>1</td>\n",
       "      <td>1 Bath</td>\n",
       "      <td>850</td>\n",
       "      <td>278</td>\n",
       "      <td>No</td>\n",
       "      <td>1</td>\n",
       "    </tr>\n",
       "    <tr>\n",
       "      <th>...</th>\n",
       "      <td>...</td>\n",
       "      <td>...</td>\n",
       "      <td>...</td>\n",
       "      <td>...</td>\n",
       "      <td>...</td>\n",
       "      <td>...</td>\n",
       "      <td>...</td>\n",
       "      <td>...</td>\n",
       "      <td>...</td>\n",
       "      <td>...</td>\n",
       "      <td>...</td>\n",
       "    </tr>\n",
       "    <tr>\n",
       "      <th>379</th>\n",
       "      <td>1619 3rd Ave #3B</td>\n",
       "      <td>New York, NY 10128</td>\n",
       "      <td>Upper East Side</td>\n",
       "      <td>635000</td>\n",
       "      <td>1975</td>\n",
       "      <td>0</td>\n",
       "      <td>1 Bath</td>\n",
       "      <td>528</td>\n",
       "      <td>1203</td>\n",
       "      <td>Cooling only</td>\n",
       "      <td>1</td>\n",
       "    </tr>\n",
       "    <tr>\n",
       "      <th>381</th>\n",
       "      <td>43 Joralemon St</td>\n",
       "      <td>Brooklyn, NY 11201</td>\n",
       "      <td>Brooklyn Heights</td>\n",
       "      <td>4500000</td>\n",
       "      <td>1845</td>\n",
       "      <td>5</td>\n",
       "      <td>6 Baths</td>\n",
       "      <td>3192</td>\n",
       "      <td>1410</td>\n",
       "      <td>No</td>\n",
       "      <td>6</td>\n",
       "    </tr>\n",
       "    <tr>\n",
       "      <th>382</th>\n",
       "      <td>195 Classon Ave #5</td>\n",
       "      <td>Brooklyn, NY 11205</td>\n",
       "      <td>Bedford Stuyvesant</td>\n",
       "      <td>1395000</td>\n",
       "      <td>2008</td>\n",
       "      <td>2</td>\n",
       "      <td>2 Baths</td>\n",
       "      <td>1185</td>\n",
       "      <td>1177</td>\n",
       "      <td>No</td>\n",
       "      <td>2</td>\n",
       "    </tr>\n",
       "    <tr>\n",
       "      <th>384</th>\n",
       "      <td>410 Maryland Ave #1C</td>\n",
       "      <td>Staten Island, NY 10305</td>\n",
       "      <td>Rosebank</td>\n",
       "      <td>279900</td>\n",
       "      <td>1974</td>\n",
       "      <td>2</td>\n",
       "      <td>1 Bath</td>\n",
       "      <td>1100</td>\n",
       "      <td>254</td>\n",
       "      <td>Heating &amp; Cooling</td>\n",
       "      <td>1</td>\n",
       "    </tr>\n",
       "    <tr>\n",
       "      <th>385</th>\n",
       "      <td>2415 E 64th St</td>\n",
       "      <td>Brooklyn, NY 11234</td>\n",
       "      <td>Mill Basin</td>\n",
       "      <td>1089000</td>\n",
       "      <td>1965</td>\n",
       "      <td>4</td>\n",
       "      <td>3 Baths</td>\n",
       "      <td>1899</td>\n",
       "      <td>573</td>\n",
       "      <td>Heating &amp; Cooling</td>\n",
       "      <td>3</td>\n",
       "    </tr>\n",
       "  </tbody>\n",
       "</table>\n",
       "<p>251 rows × 11 columns</p>\n",
       "</div>"
      ],
      "text/plain": [
       "                          Name                        City  \\\n",
       "1            37-26 32nd St #5K  Long Island City, NY 11101   \n",
       "2            37-26 32nd St #3G  Long Island City, NY 11101   \n",
       "3            37-26 32nd St #6L  Long Island City, NY 11101   \n",
       "4            37-26 32nd St #3H  Long Island City, NY 11101   \n",
       "6    2736 Independence Ave #6J             Bronx, NY 10463   \n",
       "..                         ...                         ...   \n",
       "379           1619 3rd Ave #3B          New York, NY 10128   \n",
       "381            43 Joralemon St          Brooklyn, NY 11201   \n",
       "382         195 Classon Ave #5          Brooklyn, NY 11205   \n",
       "384       410 Maryland Ave #1C     Staten Island, NY 10305   \n",
       "385             2415 E 64th St          Brooklyn, NY 11234   \n",
       "\n",
       "          Neighbourhood    Price  Year Built  Beds    Baths  Area (sqft)  \\\n",
       "1               Astoria   620000        2022     0   1 Bath          441   \n",
       "2               Astoria   730000        2022     1   1 Bath          579   \n",
       "3               Astoria   570000        2022     0   1 Bath          429   \n",
       "4               Astoria   695000        2022     1   1 Bath          632   \n",
       "6        Spuyten Duyvil   235995        1970     1   1 Bath          850   \n",
       "..                  ...      ...         ...   ...      ...          ...   \n",
       "379     Upper East Side   635000        1975     0   1 Bath          528   \n",
       "381    Brooklyn Heights  4500000        1845     5  6 Baths         3192   \n",
       "382  Bedford Stuyvesant  1395000        2008     2  2 Baths         1185   \n",
       "384            Rosebank   279900        1974     2   1 Bath         1100   \n",
       "385          Mill Basin  1089000        1965     4  3 Baths         1899   \n",
       "\n",
       "     Price(per sqft)                A/C Baths_cleaned  \n",
       "1               1406       Cooling only            1   \n",
       "2               1261       Cooling only            1   \n",
       "3               1329       Cooling only            1   \n",
       "4               1100                 No            1   \n",
       "6                278                 No            1   \n",
       "..               ...                ...           ...  \n",
       "379             1203       Cooling only            1   \n",
       "381             1410                 No            6   \n",
       "382             1177                 No            2   \n",
       "384              254  Heating & Cooling            1   \n",
       "385              573  Heating & Cooling            3   \n",
       "\n",
       "[251 rows x 11 columns]"
      ]
     },
     "execution_count": 202,
     "metadata": {},
     "output_type": "execute_result"
    }
   ],
   "source": [
    "data"
   ]
  },
  {
   "cell_type": "code",
   "execution_count": 203,
   "metadata": {},
   "outputs": [
    {
     "name": "stdout",
     "output_type": "stream",
     "text": [
      "<class 'pandas.core.frame.DataFrame'>\n",
      "Int64Index: 251 entries, 1 to 385\n",
      "Data columns (total 11 columns):\n",
      " #   Column           Non-Null Count  Dtype \n",
      "---  ------           --------------  ----- \n",
      " 0   Name             251 non-null    object\n",
      " 1   City             251 non-null    object\n",
      " 2   Neighbourhood    251 non-null    object\n",
      " 3   Price            251 non-null    int64 \n",
      " 4   Year Built       251 non-null    int64 \n",
      " 5   Beds             251 non-null    int64 \n",
      " 6   Baths            251 non-null    object\n",
      " 7   Area (sqft)      251 non-null    int64 \n",
      " 8   Price(per sqft)  251 non-null    int64 \n",
      " 9   A/C              251 non-null    object\n",
      " 10  Baths_cleaned    251 non-null    object\n",
      "dtypes: int64(5), object(6)\n",
      "memory usage: 23.5+ KB\n"
     ]
    }
   ],
   "source": [
    "data.info()"
   ]
  },
  {
   "cell_type": "markdown",
   "metadata": {},
   "source": [
    "## Is there a correlation between the number of bedrooms and property price?"
   ]
  },
  {
   "cell_type": "code",
   "execution_count": 217,
   "metadata": {},
   "outputs": [
    {
     "data": {
      "text/html": [
       "<table class=\"simpletable\">\n",
       "<caption>OLS Regression Results</caption>\n",
       "<tr>\n",
       "  <th>Dep. Variable:</th>          <td>Price</td>      <th>  R-squared:         </th> <td>   0.285</td>\n",
       "</tr>\n",
       "<tr>\n",
       "  <th>Model:</th>                   <td>OLS</td>       <th>  Adj. R-squared:    </th> <td>   0.283</td>\n",
       "</tr>\n",
       "<tr>\n",
       "  <th>Method:</th>             <td>Least Squares</td>  <th>  F-statistic:       </th> <td>   99.46</td>\n",
       "</tr>\n",
       "<tr>\n",
       "  <th>Date:</th>             <td>Tue, 28 Nov 2023</td> <th>  Prob (F-statistic):</th> <td>6.30e-20</td>\n",
       "</tr>\n",
       "<tr>\n",
       "  <th>Time:</th>                 <td>16:58:20</td>     <th>  Log-Likelihood:    </th> <td> -3740.0</td>\n",
       "</tr>\n",
       "<tr>\n",
       "  <th>No. Observations:</th>      <td>   251</td>      <th>  AIC:               </th> <td>   7484.</td>\n",
       "</tr>\n",
       "<tr>\n",
       "  <th>Df Residuals:</th>          <td>   249</td>      <th>  BIC:               </th> <td>   7491.</td>\n",
       "</tr>\n",
       "<tr>\n",
       "  <th>Df Model:</th>              <td>     1</td>      <th>                     </th>     <td> </td>   \n",
       "</tr>\n",
       "<tr>\n",
       "  <th>Covariance Type:</th>      <td>nonrobust</td>    <th>                     </th>     <td> </td>   \n",
       "</tr>\n",
       "</table>\n",
       "<table class=\"simpletable\">\n",
       "<tr>\n",
       "      <td></td>         <th>coef</th>     <th>std err</th>      <th>t</th>      <th>P>|t|</th>  <th>[0.025</th>    <th>0.975]</th>  \n",
       "</tr>\n",
       "<tr>\n",
       "  <th>Intercept</th> <td>  4.29e+05</td> <td> 7.02e+04</td> <td>    6.113</td> <td> 0.000</td> <td> 2.91e+05</td> <td> 5.67e+05</td>\n",
       "</tr>\n",
       "<tr>\n",
       "  <th>Beds</th>      <td> 2.828e+05</td> <td> 2.84e+04</td> <td>    9.973</td> <td> 0.000</td> <td> 2.27e+05</td> <td> 3.39e+05</td>\n",
       "</tr>\n",
       "</table>\n",
       "<table class=\"simpletable\">\n",
       "<tr>\n",
       "  <th>Omnibus:</th>       <td>106.656</td> <th>  Durbin-Watson:     </th> <td>   1.800</td>\n",
       "</tr>\n",
       "<tr>\n",
       "  <th>Prob(Omnibus):</th> <td> 0.000</td>  <th>  Jarque-Bera (JB):  </th> <td> 410.887</td>\n",
       "</tr>\n",
       "<tr>\n",
       "  <th>Skew:</th>          <td> 1.775</td>  <th>  Prob(JB):          </th> <td>5.98e-90</td>\n",
       "</tr>\n",
       "<tr>\n",
       "  <th>Kurtosis:</th>      <td> 8.166</td>  <th>  Cond. No.          </th> <td>    4.22</td>\n",
       "</tr>\n",
       "</table><br/><br/>Notes:<br/>[1] Standard Errors assume that the covariance matrix of the errors is correctly specified."
      ],
      "text/latex": [
       "\\begin{center}\n",
       "\\begin{tabular}{lclc}\n",
       "\\toprule\n",
       "\\textbf{Dep. Variable:}    &      Price       & \\textbf{  R-squared:         } &     0.285   \\\\\n",
       "\\textbf{Model:}            &       OLS        & \\textbf{  Adj. R-squared:    } &     0.283   \\\\\n",
       "\\textbf{Method:}           &  Least Squares   & \\textbf{  F-statistic:       } &     99.46   \\\\\n",
       "\\textbf{Date:}             & Tue, 28 Nov 2023 & \\textbf{  Prob (F-statistic):} &  6.30e-20   \\\\\n",
       "\\textbf{Time:}             &     16:58:20     & \\textbf{  Log-Likelihood:    } &   -3740.0   \\\\\n",
       "\\textbf{No. Observations:} &         251      & \\textbf{  AIC:               } &     7484.   \\\\\n",
       "\\textbf{Df Residuals:}     &         249      & \\textbf{  BIC:               } &     7491.   \\\\\n",
       "\\textbf{Df Model:}         &           1      & \\textbf{                     } &             \\\\\n",
       "\\textbf{Covariance Type:}  &    nonrobust     & \\textbf{                     } &             \\\\\n",
       "\\bottomrule\n",
       "\\end{tabular}\n",
       "\\begin{tabular}{lcccccc}\n",
       "                   & \\textbf{coef} & \\textbf{std err} & \\textbf{t} & \\textbf{P$> |$t$|$} & \\textbf{[0.025} & \\textbf{0.975]}  \\\\\n",
       "\\midrule\n",
       "\\textbf{Intercept} &     4.29e+05  &     7.02e+04     &     6.113  &         0.000        &     2.91e+05    &     5.67e+05     \\\\\n",
       "\\textbf{Beds}      &    2.828e+05  &     2.84e+04     &     9.973  &         0.000        &     2.27e+05    &     3.39e+05     \\\\\n",
       "\\bottomrule\n",
       "\\end{tabular}\n",
       "\\begin{tabular}{lclc}\n",
       "\\textbf{Omnibus:}       & 106.656 & \\textbf{  Durbin-Watson:     } &    1.800  \\\\\n",
       "\\textbf{Prob(Omnibus):} &   0.000 & \\textbf{  Jarque-Bera (JB):  } &  410.887  \\\\\n",
       "\\textbf{Skew:}          &   1.775 & \\textbf{  Prob(JB):          } & 5.98e-90  \\\\\n",
       "\\textbf{Kurtosis:}      &   8.166 & \\textbf{  Cond. No.          } &     4.22  \\\\\n",
       "\\bottomrule\n",
       "\\end{tabular}\n",
       "%\\caption{OLS Regression Results}\n",
       "\\end{center}\n",
       "\n",
       "Notes: \\newline\n",
       " [1] Standard Errors assume that the covariance matrix of the errors is correctly specified."
      ],
      "text/plain": [
       "<class 'statsmodels.iolib.summary.Summary'>\n",
       "\"\"\"\n",
       "                            OLS Regression Results                            \n",
       "==============================================================================\n",
       "Dep. Variable:                  Price   R-squared:                       0.285\n",
       "Model:                            OLS   Adj. R-squared:                  0.283\n",
       "Method:                 Least Squares   F-statistic:                     99.46\n",
       "Date:                Tue, 28 Nov 2023   Prob (F-statistic):           6.30e-20\n",
       "Time:                        16:58:20   Log-Likelihood:                -3740.0\n",
       "No. Observations:                 251   AIC:                             7484.\n",
       "Df Residuals:                     249   BIC:                             7491.\n",
       "Df Model:                           1                                         \n",
       "Covariance Type:            nonrobust                                         \n",
       "==============================================================================\n",
       "                 coef    std err          t      P>|t|      [0.025      0.975]\n",
       "------------------------------------------------------------------------------\n",
       "Intercept    4.29e+05   7.02e+04      6.113      0.000    2.91e+05    5.67e+05\n",
       "Beds        2.828e+05   2.84e+04      9.973      0.000    2.27e+05    3.39e+05\n",
       "==============================================================================\n",
       "Omnibus:                      106.656   Durbin-Watson:                   1.800\n",
       "Prob(Omnibus):                  0.000   Jarque-Bera (JB):              410.887\n",
       "Skew:                           1.775   Prob(JB):                     5.98e-90\n",
       "Kurtosis:                       8.166   Cond. No.                         4.22\n",
       "==============================================================================\n",
       "\n",
       "Notes:\n",
       "[1] Standard Errors assume that the covariance matrix of the errors is correctly specified.\n",
       "\"\"\""
      ]
     },
     "execution_count": 217,
     "metadata": {},
     "output_type": "execute_result"
    }
   ],
   "source": [
    "olsreg = ols('Price ~ Beds', data=data).fit()\n",
    "olsreg.summary()"
   ]
  },
  {
   "cell_type": "code",
   "execution_count": 178,
   "metadata": {},
   "outputs": [
    {
     "data": {
      "text/plain": [
       "(0.04962408899090853, 0.00037592619587064116)"
      ]
     },
     "execution_count": 178,
     "metadata": {},
     "output_type": "execute_result"
    }
   ],
   "source": [
    "r_squared = olsreg.rsquared\n",
    "p_value = olsreg.f_pvalue\n",
    "\n",
    "r_squared, p_value"
   ]
  },
  {
   "cell_type": "markdown",
   "metadata": {},
   "source": [
    "The R-squared value from the OLS regression is a statistical measure representing the proportion of the variance for property price (dependent variable) explained by the number of bedrooms (independent variable). With a value of 0.2854, we see that approximately 28.54% of the variability in property prices can be explained by the number of bedrooms.\n",
    "\n",
    "Additionally, the p-value is a statistical test to determine whether there is a relationship between two variables. In this case, we are looking at if there is a relationship between the number of bedrooms and property price. Due to the number of 6.301769648197888e-20, we see there is a statistically significant relationship because of how small the p-value is. This means we have strong enough evidence to reject the null hypothesis that there is no relationship between these two variables.\n",
    "\n",
    "\n",
    "In summary, the analysis using linear regression suggests that the number of bedrooms has a statistically significant correlation with property price, and the model explains approximately 28.54% of the variability in property prices based on the number of bedrooms."
   ]
  },
  {
   "cell_type": "code",
   "execution_count": 218,
   "metadata": {},
   "outputs": [
    {
     "data": {
      "text/plain": [
       "Text(463.154761904762, 0.5, 'Price ($)')"
      ]
     },
     "execution_count": 218,
     "metadata": {},
     "output_type": "execute_result"
    },
    {
     "data": {
      "image/png": "[encoded data removed]",
      "text/plain": [
       "<Figure size 600x600 with 3 Axes>"
      ]
     },
     "metadata": {},
     "output_type": "display_data"
    }
   ],
   "source": [
    "jg = sns.JointGrid(x=\"Beds\", y=\"Price\", data=data)\n",
    "jg.plot(sns.regplot, sns.histplot)\n",
    "plt.xlabel(\"Number of Beds\")\n",
    "plt.ylabel(\"Price ($)\")"
   ]
  },
  {
   "cell_type": "markdown",
   "metadata": {},
   "source": [
    "The Joint Grid above shows a positive correlation between Beds and the Price of the property in the regression plot. As the number of beds increases, the price increases too. The distribution plot shows the distribution of observations for each value of X and Y, showing a heavier distribution toward lower prices and a few number of beds, meaning that these properties are more readily available in the New York Market.  \n"
   ]
  },
  {
   "cell_type": "markdown",
   "metadata": {},
   "source": [
    "## Is there a relationship between ‘Year Built’ and ‘Price’? What two variables influence price the most?  "
   ]
  },
  {
   "cell_type": "code",
   "execution_count": 105,
   "metadata": {},
   "outputs": [],
   "source": [
    "def labelled_scatterplot(data=None,x=None,y=None,labs=None):\n",
    "    p1 = sns.scatterplot(data=data,x=x,y=y)\n",
    "    for line in range(0,data.shape[0]):\n",
    "        p1.text(data[x][line]+0.01, data[y][line], \n",
    "                data[labs][line], horizontalalignment='left', \n",
    "                size='medium', color='black')\n",
    "        "
   ]
  },
  {
   "cell_type": "code",
   "execution_count": 106,
   "metadata": {},
   "outputs": [
    {
     "name": "stderr",
     "output_type": "stream",
     "text": [
      "/var/folders/bm/7gfzqmk92w7f0g15qhnh3_1h0000gn/T/ipykernel_49690/2505699685.py:1: FutureWarning: The default value of numeric_only in DataFrame.corr is deprecated. In a future version, it will default to False. Select only valid columns or specify the value of numeric_only to silence this warning.\n",
      "  output = data[3:7].corr()#.unstack().sort_values(ascending=False).reset_index()\n"
     ]
    },
    {
     "data": {
      "text/html": [
       "<div>\n",
       "<style scoped>\n",
       "    .dataframe tbody tr th:only-of-type {\n",
       "        vertical-align: middle;\n",
       "    }\n",
       "\n",
       "    .dataframe tbody tr th {\n",
       "        vertical-align: top;\n",
       "    }\n",
       "\n",
       "    .dataframe thead th {\n",
       "        text-align: right;\n",
       "    }\n",
       "</style>\n",
       "<table border=\"1\" class=\"dataframe\">\n",
       "  <thead>\n",
       "    <tr style=\"text-align: right;\">\n",
       "      <th></th>\n",
       "      <th>var1</th>\n",
       "      <th>var2</th>\n",
       "      <th>correlation</th>\n",
       "    </tr>\n",
       "  </thead>\n",
       "  <tbody>\n",
       "    <tr>\n",
       "      <th>1</th>\n",
       "      <td>Beds</td>\n",
       "      <td>Price</td>\n",
       "      <td>0.808568</td>\n",
       "    </tr>\n",
       "    <tr>\n",
       "      <th>2</th>\n",
       "      <td>Price(per sqft)</td>\n",
       "      <td>Year Built</td>\n",
       "      <td>0.744994</td>\n",
       "    </tr>\n",
       "    <tr>\n",
       "      <th>3</th>\n",
       "      <td>Price(per sqft)</td>\n",
       "      <td>Price</td>\n",
       "      <td>0.642966</td>\n",
       "    </tr>\n",
       "    <tr>\n",
       "      <th>4</th>\n",
       "      <td>Area (sqft)</td>\n",
       "      <td>Price</td>\n",
       "      <td>-0.635159</td>\n",
       "    </tr>\n",
       "    <tr>\n",
       "      <th>5</th>\n",
       "      <td>Area (sqft)</td>\n",
       "      <td>Year Built</td>\n",
       "      <td>-0.614899</td>\n",
       "    </tr>\n",
       "  </tbody>\n",
       "</table>\n",
       "</div>"
      ],
      "text/plain": [
       "              var1        var2  correlation\n",
       "1             Beds       Price     0.808568\n",
       "2  Price(per sqft)  Year Built     0.744994\n",
       "3  Price(per sqft)       Price     0.642966\n",
       "4      Area (sqft)       Price    -0.635159\n",
       "5      Area (sqft)  Year Built    -0.614899"
      ]
     },
     "execution_count": 106,
     "metadata": {},
     "output_type": "execute_result"
    }
   ],
   "source": [
    "output = data[3:7].corr()#.unstack().sort_values(ascending=False).reset_index()\n",
    "output = output.unstack().sort_values(key=abs, ascending=False).drop_duplicates().reset_index()\n",
    "output.columns = ['var1', 'var2', 'correlation']\n",
    "mask = output.apply(lambda x: x.var1 != x.var2, axis=1)\n",
    "output = output[mask]\n",
    "output[:5]"
   ]
  },
  {
   "cell_type": "code",
   "execution_count": 107,
   "metadata": {},
   "outputs": [
    {
     "data": {
      "text/plain": [
       "array([[ 0.5531791 ,  1.22476924, -1.17998832, -0.78875229, -0.24760062,\n",
       "         1.33442156],\n",
       "       [ 0.88874485,  1.22476924, -0.55514218, -0.78875229, -0.24053395,\n",
       "         1.00685759],\n",
       "       [ 0.40064922,  1.22476924, -1.17998832, -0.78875229, -0.24821511,\n",
       "         1.16047379],\n",
       "       ...,\n",
       "       [-1.33514088,  0.92929766,  0.06970395, -0.03884008, -0.20950206,\n",
       "         0.81709639],\n",
       "       [-0.48707472,  0.21172381,  0.06970395, -0.78875229, -0.21385472,\n",
       "        -1.26801774],\n",
       "       [-1.33514088,  0.02177779,  1.31939622,  0.71107214, -0.17293974,\n",
       "        -0.547377  ]])"
      ]
     },
     "execution_count": 107,
     "metadata": {},
     "output_type": "execute_result"
    }
   ],
   "source": [
    "data_pca = data[['Price', 'Year Built', 'Beds', 'Baths_cleaned', 'Area (sqft)', 'Price(per sqft)']]\n",
    "houses_X = data_pca.values\n",
    "houses_Y = data_pca.index\n",
    "from sklearn.preprocessing import scale\n",
    "scale(houses_X)"
   ]
  },
  {
   "cell_type": "code",
   "execution_count": 108,
   "metadata": {},
   "outputs": [
    {
     "data": {
      "image/png": "[encoded data removed]",
      "text/plain": [
       "<Figure size 640x480 with 1 Axes>"
      ]
     },
     "metadata": {},
     "output_type": "display_data"
    }
   ],
   "source": [
    "from sklearn.decomposition import PCA\n",
    "\n",
    "pca = PCA(n_components=2)\n",
    "X_pca = pca.fit_transform(scale(houses_X))\n",
    "X_pca_labelled = pd.concat([pd.DataFrame({'who':houses_Y}),pd.DataFrame(X_pca,columns=['pca1','pca2'])],axis=1)\n",
    "labelled_scatterplot(data=X_pca_labelled,x='pca1',y='pca2',labs='who')"
   ]
  },
  {
   "cell_type": "code",
   "execution_count": 109,
   "metadata": {},
   "outputs": [
    {
     "name": "stdout",
     "output_type": "stream",
     "text": [
      "     0            1\n",
      "0  PC1   Year Built\n",
      "1  PC2  Area (sqft)\n"
     ]
    }
   ],
   "source": [
    "# number of components\n",
    "n_pcs= pca.components_.shape[0]\n",
    "\n",
    "# get the index of the most important feature on EACH component\n",
    "# LIST COMPREHENSION HERE\n",
    "most_important = [np.abs(pca.components_[i]).argmax() for i in range(n_pcs)]\n",
    "\n",
    "initial_feature_names = ['Price', 'Year Built', 'Beds', 'Baths_cleaned', 'Area (sqft)']\n",
    "# get the names\n",
    "most_important_names = [initial_feature_names[most_important[i]] for i in range(n_pcs)]\n",
    "\n",
    "# LIST COMPREHENSION HERE AGAIN\n",
    "dic = {'PC{}'.format(i+1): most_important_names[i] for i in range(n_pcs)}\n",
    "\n",
    "# build the dataframe\n",
    "df = pd.DataFrame(dic.items())\n",
    "print(df)"
   ]
  },
  {
   "cell_type": "code",
   "execution_count": 110,
   "metadata": {},
   "outputs": [
    {
     "data": {
      "text/plain": [
       "array([2.71744156, 1.38334538])"
      ]
     },
     "execution_count": 110,
     "metadata": {},
     "output_type": "execute_result"
    }
   ],
   "source": [
    "pca.explained_variance_"
   ]
  },
  {
   "cell_type": "code",
   "execution_count": 111,
   "metadata": {},
   "outputs": [
    {
     "data": {
      "text/plain": [
       "array([[ 2.05178978,  1.65781343,  2.07850508, ...,  0.212727  ,\n",
       "         0.89154322, -1.69364761],\n",
       "       [ 1.65781343,  1.33948682,  1.67939896, ...,  0.17188003,\n",
       "         0.7203527 , -1.36844027],\n",
       "       [ 2.07850508,  1.67939896,  2.10556822, ...,  0.21549681,\n",
       "         0.90315154, -1.71569972],\n",
       "       ...,\n",
       "       [ 0.212727  ,  0.17188003,  0.21549681, ...,  0.02205527,\n",
       "         0.09243409, -0.17559527],\n",
       "       [ 0.89154322,  0.7203527 ,  0.90315154, ...,  0.09243409,\n",
       "         0.38739315, -0.73592336],\n",
       "       [-1.69364761, -1.36844027, -1.71569972, ..., -0.17559527,\n",
       "        -0.73592336,  1.39801955]])"
      ]
     },
     "execution_count": 111,
     "metadata": {},
     "output_type": "execute_result"
    }
   ],
   "source": [
    "np.cov(X_pca)"
   ]
  },
  {
   "cell_type": "code",
   "execution_count": 112,
   "metadata": {},
   "outputs": [
    {
     "data": {
      "text/plain": [
       "array([0.45110252, 0.22963901])"
      ]
     },
     "execution_count": 112,
     "metadata": {},
     "output_type": "execute_result"
    }
   ],
   "source": [
    "pca.explained_variance_ratio_"
   ]
  },
  {
   "cell_type": "code",
   "execution_count": 113,
   "metadata": {},
   "outputs": [
    {
     "name": "stderr",
     "output_type": "stream",
     "text": [
      "/var/folders/bm/7gfzqmk92w7f0g15qhnh3_1h0000gn/T/ipykernel_49690/1301959331.py:1: FutureWarning: The default value of numeric_only in DataFrame.corr is deprecated. In a future version, it will default to False. Select only valid columns or specify the value of numeric_only to silence this warning.\n",
      "  sns.heatmap(data.corr(), annot=True, fmt=\".2f\", cmap=\"coolwarm\")\n"
     ]
    },
    {
     "data": {
      "text/plain": [
       "<Axes: >"
      ]
     },
     "execution_count": 113,
     "metadata": {},
     "output_type": "execute_result"
    },
    {
     "data": {
      "image/png": "[encoded data removed]",
      "text/plain": [
       "<Figure size 640x480 with 2 Axes>"
      ]
     },
     "metadata": {},
     "output_type": "display_data"
    }
   ],
   "source": [
    "sns.heatmap(data.corr(), annot=True, fmt=\".2f\", cmap=\"coolwarm\")"
   ]
  },
  {
   "cell_type": "code",
   "execution_count": 114,
   "metadata": {},
   "outputs": [
    {
     "data": {
      "text/html": [
       "<table class=\"simpletable\">\n",
       "<caption>OLS Regression Results</caption>\n",
       "<tr>\n",
       "  <th>Dep. Variable:</th>     <td>Q(\"Year Built\")</td> <th>  R-squared:         </th> <td>   0.541</td>\n",
       "</tr>\n",
       "<tr>\n",
       "  <th>Model:</th>                   <td>OLS</td>       <th>  Adj. R-squared:    </th> <td>   0.532</td>\n",
       "</tr>\n",
       "<tr>\n",
       "  <th>Method:</th>             <td>Least Squares</td>  <th>  F-statistic:       </th> <td>   57.81</td>\n",
       "</tr>\n",
       "<tr>\n",
       "  <th>Date:</th>             <td>Tue, 28 Nov 2023</td> <th>  Prob (F-statistic):</th> <td>1.45e-39</td>\n",
       "</tr>\n",
       "<tr>\n",
       "  <th>Time:</th>                 <td>16:45:59</td>     <th>  Log-Likelihood:    </th> <td> -1226.8</td>\n",
       "</tr>\n",
       "<tr>\n",
       "  <th>No. Observations:</th>      <td>   251</td>      <th>  AIC:               </th> <td>   2466.</td>\n",
       "</tr>\n",
       "<tr>\n",
       "  <th>Df Residuals:</th>          <td>   245</td>      <th>  BIC:               </th> <td>   2487.</td>\n",
       "</tr>\n",
       "<tr>\n",
       "  <th>Df Model:</th>              <td>     5</td>      <th>                     </th>     <td> </td>   \n",
       "</tr>\n",
       "<tr>\n",
       "  <th>Covariance Type:</th>      <td>nonrobust</td>    <th>                     </th>     <td> </td>   \n",
       "</tr>\n",
       "</table>\n",
       "<table class=\"simpletable\">\n",
       "<tr>\n",
       "           <td></td>              <th>coef</th>     <th>std err</th>      <th>t</th>      <th>P>|t|</th>  <th>[0.025</th>    <th>0.975]</th>  \n",
       "</tr>\n",
       "<tr>\n",
       "  <th>Intercept</th>           <td> 1990.1589</td> <td>    3.140</td> <td>  633.768</td> <td> 0.000</td> <td> 1983.974</td> <td> 1996.344</td>\n",
       "</tr>\n",
       "<tr>\n",
       "  <th>Baths_cleaned[T.2 ]</th> <td>  -26.1270</td> <td>    4.592</td> <td>   -5.690</td> <td> 0.000</td> <td>  -35.172</td> <td>  -17.082</td>\n",
       "</tr>\n",
       "<tr>\n",
       "  <th>Baths_cleaned[T.3 ]</th> <td>  -25.1589</td> <td>   10.741</td> <td>   -2.342</td> <td> 0.020</td> <td>  -46.316</td> <td>   -4.002</td>\n",
       "</tr>\n",
       "<tr>\n",
       "  <th>Baths_cleaned[T.4 ]</th> <td>  -85.6589</td> <td>    7.913</td> <td>  -10.825</td> <td> 0.000</td> <td> -101.245</td> <td>  -70.073</td>\n",
       "</tr>\n",
       "<tr>\n",
       "  <th>Baths_cleaned[T.5 ]</th> <td>  -70.1589</td> <td>   10.741</td> <td>   -6.532</td> <td> 0.000</td> <td>  -91.316</td> <td>  -49.002</td>\n",
       "</tr>\n",
       "<tr>\n",
       "  <th>Baths_cleaned[T.6 ]</th> <td> -145.1589</td> <td>   10.741</td> <td>  -13.514</td> <td> 0.000</td> <td> -166.316</td> <td> -124.002</td>\n",
       "</tr>\n",
       "</table>\n",
       "<table class=\"simpletable\">\n",
       "<tr>\n",
       "  <th>Omnibus:</th>       <td>12.783</td> <th>  Durbin-Watson:     </th> <td>   1.291</td>\n",
       "</tr>\n",
       "<tr>\n",
       "  <th>Prob(Omnibus):</th> <td> 0.002</td> <th>  Jarque-Bera (JB):  </th> <td>   5.946</td>\n",
       "</tr>\n",
       "<tr>\n",
       "  <th>Skew:</th>          <td>-0.118</td> <th>  Prob(JB):          </th> <td>  0.0512</td>\n",
       "</tr>\n",
       "<tr>\n",
       "  <th>Kurtosis:</th>      <td> 2.284</td> <th>  Cond. No.          </th> <td>    6.39</td>\n",
       "</tr>\n",
       "</table><br/><br/>Notes:<br/>[1] Standard Errors assume that the covariance matrix of the errors is correctly specified."
      ],
      "text/latex": [
       "\\begin{center}\n",
       "\\begin{tabular}{lclc}\n",
       "\\toprule\n",
       "\\textbf{Dep. Variable:}       & Q(\"Year Built\")  & \\textbf{  R-squared:         } &     0.541   \\\\\n",
       "\\textbf{Model:}               &       OLS        & \\textbf{  Adj. R-squared:    } &     0.532   \\\\\n",
       "\\textbf{Method:}              &  Least Squares   & \\textbf{  F-statistic:       } &     57.81   \\\\\n",
       "\\textbf{Date:}                & Tue, 28 Nov 2023 & \\textbf{  Prob (F-statistic):} &  1.45e-39   \\\\\n",
       "\\textbf{Time:}                &     16:45:59     & \\textbf{  Log-Likelihood:    } &   -1226.8   \\\\\n",
       "\\textbf{No. Observations:}    &         251      & \\textbf{  AIC:               } &     2466.   \\\\\n",
       "\\textbf{Df Residuals:}        &         245      & \\textbf{  BIC:               } &     2487.   \\\\\n",
       "\\textbf{Df Model:}            &           5      & \\textbf{                     } &             \\\\\n",
       "\\textbf{Covariance Type:}     &    nonrobust     & \\textbf{                     } &             \\\\\n",
       "\\bottomrule\n",
       "\\end{tabular}\n",
       "\\begin{tabular}{lcccccc}\n",
       "                              & \\textbf{coef} & \\textbf{std err} & \\textbf{t} & \\textbf{P$> |$t$|$} & \\textbf{[0.025} & \\textbf{0.975]}  \\\\\n",
       "\\midrule\n",
       "\\textbf{Intercept}            &    1990.1589  &        3.140     &   633.768  &         0.000        &     1983.974    &     1996.344     \\\\\n",
       "\\textbf{Baths\\_cleaned[T.2 ]} &     -26.1270  &        4.592     &    -5.690  &         0.000        &      -35.172    &      -17.082     \\\\\n",
       "\\textbf{Baths\\_cleaned[T.3 ]} &     -25.1589  &       10.741     &    -2.342  &         0.020        &      -46.316    &       -4.002     \\\\\n",
       "\\textbf{Baths\\_cleaned[T.4 ]} &     -85.6589  &        7.913     &   -10.825  &         0.000        &     -101.245    &      -70.073     \\\\\n",
       "\\textbf{Baths\\_cleaned[T.5 ]} &     -70.1589  &       10.741     &    -6.532  &         0.000        &      -91.316    &      -49.002     \\\\\n",
       "\\textbf{Baths\\_cleaned[T.6 ]} &    -145.1589  &       10.741     &   -13.514  &         0.000        &     -166.316    &     -124.002     \\\\\n",
       "\\bottomrule\n",
       "\\end{tabular}\n",
       "\\begin{tabular}{lclc}\n",
       "\\textbf{Omnibus:}       & 12.783 & \\textbf{  Durbin-Watson:     } &    1.291  \\\\\n",
       "\\textbf{Prob(Omnibus):} &  0.002 & \\textbf{  Jarque-Bera (JB):  } &    5.946  \\\\\n",
       "\\textbf{Skew:}          & -0.118 & \\textbf{  Prob(JB):          } &   0.0512  \\\\\n",
       "\\textbf{Kurtosis:}      &  2.284 & \\textbf{  Cond. No.          } &     6.39  \\\\\n",
       "\\bottomrule\n",
       "\\end{tabular}\n",
       "%\\caption{OLS Regression Results}\n",
       "\\end{center}\n",
       "\n",
       "Notes: \\newline\n",
       " [1] Standard Errors assume that the covariance matrix of the errors is correctly specified."
      ],
      "text/plain": [
       "<class 'statsmodels.iolib.summary.Summary'>\n",
       "\"\"\"\n",
       "                            OLS Regression Results                            \n",
       "==============================================================================\n",
       "Dep. Variable:        Q(\"Year Built\")   R-squared:                       0.541\n",
       "Model:                            OLS   Adj. R-squared:                  0.532\n",
       "Method:                 Least Squares   F-statistic:                     57.81\n",
       "Date:                Tue, 28 Nov 2023   Prob (F-statistic):           1.45e-39\n",
       "Time:                        16:45:59   Log-Likelihood:                -1226.8\n",
       "No. Observations:                 251   AIC:                             2466.\n",
       "Df Residuals:                     245   BIC:                             2487.\n",
       "Df Model:                           5                                         \n",
       "Covariance Type:            nonrobust                                         \n",
       "=======================================================================================\n",
       "                          coef    std err          t      P>|t|      [0.025      0.975]\n",
       "---------------------------------------------------------------------------------------\n",
       "Intercept            1990.1589      3.140    633.768      0.000    1983.974    1996.344\n",
       "Baths_cleaned[T.2 ]   -26.1270      4.592     -5.690      0.000     -35.172     -17.082\n",
       "Baths_cleaned[T.3 ]   -25.1589     10.741     -2.342      0.020     -46.316      -4.002\n",
       "Baths_cleaned[T.4 ]   -85.6589      7.913    -10.825      0.000    -101.245     -70.073\n",
       "Baths_cleaned[T.5 ]   -70.1589     10.741     -6.532      0.000     -91.316     -49.002\n",
       "Baths_cleaned[T.6 ]  -145.1589     10.741    -13.514      0.000    -166.316    -124.002\n",
       "==============================================================================\n",
       "Omnibus:                       12.783   Durbin-Watson:                   1.291\n",
       "Prob(Omnibus):                  0.002   Jarque-Bera (JB):                5.946\n",
       "Skew:                          -0.118   Prob(JB):                       0.0512\n",
       "Kurtosis:                       2.284   Cond. No.                         6.39\n",
       "==============================================================================\n",
       "\n",
       "Notes:\n",
       "[1] Standard Errors assume that the covariance matrix of the errors is correctly specified.\n",
       "\"\"\""
      ]
     },
     "execution_count": 114,
     "metadata": {},
     "output_type": "execute_result"
    }
   ],
   "source": [
    "formula = 'Q(\"Year Built\") ~ Baths_cleaned'\n",
    "model = smf.ols(formula=formula, data=data).fit()\n",
    "model.summary()"
   ]
  },
  {
   "cell_type": "markdown",
   "metadata": {},
   "source": [
    "## Does the presence of amenities (like air conditioning) have a statistically significant impact on property prices in New York?"
   ]
  },
  {
   "cell_type": "markdown",
   "metadata": {},
   "source": [
    "### Note: converting air condition below to numeric values with 0 representing 'No', 1 representing 'Cooling', and 2 representing 'heating and cooling'"
   ]
  },
  {
   "cell_type": "code",
   "execution_count": 115,
   "metadata": {},
   "outputs": [],
   "source": [
    "data = data.rename(columns={'A/C': 'Air_Condition'})"
   ]
  },
  {
   "cell_type": "code",
   "execution_count": 116,
   "metadata": {},
   "outputs": [],
   "source": [
    "def convert_condition(value):\n",
    "    if value == 'No':\n",
    "        return 0\n",
    "    elif value == 'Cooling only':\n",
    "        return 1\n",
    "    else:\n",
    "        return 2"
   ]
  },
  {
   "cell_type": "code",
   "execution_count": 117,
   "metadata": {},
   "outputs": [],
   "source": [
    "data['Air_Condition'] = data['Air_Condition'].apply(convert_condition)"
   ]
  },
  {
   "cell_type": "code",
   "execution_count": 118,
   "metadata": {},
   "outputs": [],
   "source": [
    "data['Baths_cleaned'] = data['Baths_cleaned'].apply(lambda x: int (x))"
   ]
  },
  {
   "cell_type": "markdown",
   "metadata": {},
   "source": [
    "### Anova Test"
   ]
  },
  {
   "cell_type": "code",
   "execution_count": 119,
   "metadata": {},
   "outputs": [
    {
     "data": {
      "text/html": [
       "<div>\n",
       "<style scoped>\n",
       "    .dataframe tbody tr th:only-of-type {\n",
       "        vertical-align: middle;\n",
       "    }\n",
       "\n",
       "    .dataframe tbody tr th {\n",
       "        vertical-align: top;\n",
       "    }\n",
       "\n",
       "    .dataframe thead th {\n",
       "        text-align: right;\n",
       "    }\n",
       "</style>\n",
       "<table border=\"1\" class=\"dataframe\">\n",
       "  <thead>\n",
       "    <tr style=\"text-align: right;\">\n",
       "      <th></th>\n",
       "      <th>sum_sq</th>\n",
       "      <th>df</th>\n",
       "      <th>F</th>\n",
       "      <th>PR(&gt;F)</th>\n",
       "    </tr>\n",
       "  </thead>\n",
       "  <tbody>\n",
       "    <tr>\n",
       "      <th>Air_Condition</th>\n",
       "      <td>6.913090e+04</td>\n",
       "      <td>1.0</td>\n",
       "      <td>0.779072</td>\n",
       "      <td>3.782834e-01</td>\n",
       "    </tr>\n",
       "    <tr>\n",
       "      <th>Baths_cleaned</th>\n",
       "      <td>3.698453e+06</td>\n",
       "      <td>1.0</td>\n",
       "      <td>41.679781</td>\n",
       "      <td>5.652783e-10</td>\n",
       "    </tr>\n",
       "    <tr>\n",
       "      <th>Beds</th>\n",
       "      <td>1.357151e+05</td>\n",
       "      <td>1.0</td>\n",
       "      <td>1.529443</td>\n",
       "      <td>2.173707e-01</td>\n",
       "    </tr>\n",
       "    <tr>\n",
       "      <th>Residual</th>\n",
       "      <td>2.191753e+07</td>\n",
       "      <td>247.0</td>\n",
       "      <td>NaN</td>\n",
       "      <td>NaN</td>\n",
       "    </tr>\n",
       "  </tbody>\n",
       "</table>\n",
       "</div>"
      ],
      "text/plain": [
       "                     sum_sq     df          F        PR(>F)\n",
       "Air_Condition  6.913090e+04    1.0   0.779072  3.782834e-01\n",
       "Baths_cleaned  3.698453e+06    1.0  41.679781  5.652783e-10\n",
       "Beds           1.357151e+05    1.0   1.529443  2.173707e-01\n",
       "Residual       2.191753e+07  247.0        NaN           NaN"
      ]
     },
     "execution_count": 119,
     "metadata": {},
     "output_type": "execute_result"
    }
   ],
   "source": [
    "ny_lm = ols('Price ~ Air_Condition + Baths_cleaned + Beds', data=data).fit()\n",
    "table = sm.stats.anova_lm(ny_lm, typ=2)\n",
    "table"
   ]
  },
  {
   "cell_type": "markdown",
   "metadata": {},
   "source": [
    "The statistical significance of the variables Air Conditioning, Number of Baths, and Number of Beds in explaining the variability in property prices (Price) is being shown here. These are the numerical values obtained from the most recent Anova test.\n",
    "\n",
    "Air Conditioning: The sum squares is 2.200510e+13, the F-statistic is 110.486637, and the PR(>F)is the p-value associated with the F-statistic, which is very close to zero (1.339053e-21). From here, we can see that the presence of air conditioning has a statistically significant impact on property prices in New York. The low p-value indicates that there is strong evidence to reject the null hypothesis that the coefficient for air condition is zero. \n",
    "\n",
    "\n",
    "Number of baths: The sum squares is 6.220911e+13, the F-statistic is 312.349165, and the PR(>F) (p-value) is 9.761773e-46. The number of bathrooms also has a statistically significant impact on property prices in New York.\n",
    "\n",
    "Beds: The sum of squares is 1.067585e+12, the F-statistic is 5.360294, and the PR(>F) (p-value) is 0.02142047. The number of bedrooms has a statistically significant impact on property prices, but the evidence is weaker compared to air conditioning and bathrooms. The p-value is slightly above the common significance level of 0.05, but it is still relatively low, suggesting that the impact is likely to be statistically significant.\n",
    "\n",
    "In summary, the presence of air conditioning, the number of bathrooms, and the number of bedrooms all have statistically significant impacts on property prices in New York, but the strongest impact is the number of bathrooms."
   ]
  },
  {
   "cell_type": "code",
   "execution_count": 120,
   "metadata": {},
   "outputs": [
    {
     "data": {
      "text/html": [
       "<div>\n",
       "<style scoped>\n",
       "    .dataframe tbody tr th:only-of-type {\n",
       "        vertical-align: middle;\n",
       "    }\n",
       "\n",
       "    .dataframe tbody tr th {\n",
       "        vertical-align: top;\n",
       "    }\n",
       "\n",
       "    .dataframe thead th {\n",
       "        text-align: right;\n",
       "    }\n",
       "</style>\n",
       "<table border=\"1\" class=\"dataframe\">\n",
       "  <thead>\n",
       "    <tr style=\"text-align: right;\">\n",
       "      <th></th>\n",
       "      <th>Air_Condition</th>\n",
       "      <th>Baths_cleaned</th>\n",
       "      <th>Beds</th>\n",
       "    </tr>\n",
       "    <tr>\n",
       "      <th>Neighbourhood</th>\n",
       "      <th></th>\n",
       "      <th></th>\n",
       "      <th></th>\n",
       "    </tr>\n",
       "  </thead>\n",
       "  <tbody>\n",
       "    <tr>\n",
       "      <th>Astoria</th>\n",
       "      <td>1.0</td>\n",
       "      <td>1.0</td>\n",
       "      <td>0.5</td>\n",
       "    </tr>\n",
       "    <tr>\n",
       "      <th>Battery Park</th>\n",
       "      <td>0.0</td>\n",
       "      <td>1.0</td>\n",
       "      <td>1.0</td>\n",
       "    </tr>\n",
       "    <tr>\n",
       "      <th>Baychester</th>\n",
       "      <td>2.0</td>\n",
       "      <td>2.0</td>\n",
       "      <td>2.0</td>\n",
       "    </tr>\n",
       "    <tr>\n",
       "      <th>Bedford Stuyvesant</th>\n",
       "      <td>1.0</td>\n",
       "      <td>3.0</td>\n",
       "      <td>3.5</td>\n",
       "    </tr>\n",
       "    <tr>\n",
       "      <th>Brooklyn Heights</th>\n",
       "      <td>0.0</td>\n",
       "      <td>6.0</td>\n",
       "      <td>5.0</td>\n",
       "    </tr>\n",
       "    <tr>\n",
       "      <th>Canarsie</th>\n",
       "      <td>2.0</td>\n",
       "      <td>4.0</td>\n",
       "      <td>6.0</td>\n",
       "    </tr>\n",
       "    <tr>\n",
       "      <th>Flushing</th>\n",
       "      <td>0.0</td>\n",
       "      <td>2.0</td>\n",
       "      <td>2.0</td>\n",
       "    </tr>\n",
       "    <tr>\n",
       "      <th>Gravesend</th>\n",
       "      <td>1.0</td>\n",
       "      <td>2.0</td>\n",
       "      <td>2.0</td>\n",
       "    </tr>\n",
       "    <tr>\n",
       "      <th>Heartland Village</th>\n",
       "      <td>2.0</td>\n",
       "      <td>2.0</td>\n",
       "      <td>2.0</td>\n",
       "    </tr>\n",
       "    <tr>\n",
       "      <th>Jackson Heights</th>\n",
       "      <td>0.0</td>\n",
       "      <td>2.0</td>\n",
       "      <td>2.0</td>\n",
       "    </tr>\n",
       "    <tr>\n",
       "      <th>Jamaica Estates</th>\n",
       "      <td>2.0</td>\n",
       "      <td>1.0</td>\n",
       "      <td>1.0</td>\n",
       "    </tr>\n",
       "    <tr>\n",
       "      <th>Middle Village</th>\n",
       "      <td>2.0</td>\n",
       "      <td>2.0</td>\n",
       "      <td>2.0</td>\n",
       "    </tr>\n",
       "    <tr>\n",
       "      <th>Midtown</th>\n",
       "      <td>0.0</td>\n",
       "      <td>1.0</td>\n",
       "      <td>0.0</td>\n",
       "    </tr>\n",
       "    <tr>\n",
       "      <th>Mill Basin</th>\n",
       "      <td>2.0</td>\n",
       "      <td>3.0</td>\n",
       "      <td>4.0</td>\n",
       "    </tr>\n",
       "    <tr>\n",
       "      <th>New Brighton</th>\n",
       "      <td>2.0</td>\n",
       "      <td>5.0</td>\n",
       "      <td>0.0</td>\n",
       "    </tr>\n",
       "    <tr>\n",
       "      <th>Park Slope</th>\n",
       "      <td>1.0</td>\n",
       "      <td>2.0</td>\n",
       "      <td>2.0</td>\n",
       "    </tr>\n",
       "    <tr>\n",
       "      <th>Riverdale</th>\n",
       "      <td>0.0</td>\n",
       "      <td>1.0</td>\n",
       "      <td>1.0</td>\n",
       "    </tr>\n",
       "    <tr>\n",
       "      <th>Rosebank</th>\n",
       "      <td>2.0</td>\n",
       "      <td>1.0</td>\n",
       "      <td>2.0</td>\n",
       "    </tr>\n",
       "    <tr>\n",
       "      <th>Spuyten Duyvil</th>\n",
       "      <td>0.0</td>\n",
       "      <td>1.0</td>\n",
       "      <td>1.0</td>\n",
       "    </tr>\n",
       "    <tr>\n",
       "      <th>Stapleton</th>\n",
       "      <td>2.0</td>\n",
       "      <td>2.0</td>\n",
       "      <td>3.0</td>\n",
       "    </tr>\n",
       "    <tr>\n",
       "      <th>Upper East Side</th>\n",
       "      <td>1.0</td>\n",
       "      <td>1.0</td>\n",
       "      <td>0.0</td>\n",
       "    </tr>\n",
       "    <tr>\n",
       "      <th>Upper West Side</th>\n",
       "      <td>0.0</td>\n",
       "      <td>2.0</td>\n",
       "      <td>2.0</td>\n",
       "    </tr>\n",
       "  </tbody>\n",
       "</table>\n",
       "</div>"
      ],
      "text/plain": [
       "                    Air_Condition  Baths_cleaned  Beds\n",
       "Neighbourhood                                         \n",
       "Astoria                       1.0            1.0   0.5\n",
       "Battery Park                  0.0            1.0   1.0\n",
       "Baychester                    2.0            2.0   2.0\n",
       "Bedford Stuyvesant            1.0            3.0   3.5\n",
       "Brooklyn Heights              0.0            6.0   5.0\n",
       "Canarsie                      2.0            4.0   6.0\n",
       "Flushing                      0.0            2.0   2.0\n",
       "Gravesend                     1.0            2.0   2.0\n",
       "Heartland Village             2.0            2.0   2.0\n",
       "Jackson Heights               0.0            2.0   2.0\n",
       "Jamaica Estates               2.0            1.0   1.0\n",
       "Middle Village                2.0            2.0   2.0\n",
       "Midtown                       0.0            1.0   0.0\n",
       "Mill Basin                    2.0            3.0   4.0\n",
       "New Brighton                  2.0            5.0   0.0\n",
       "Park Slope                    1.0            2.0   2.0\n",
       "Riverdale                     0.0            1.0   1.0\n",
       "Rosebank                      2.0            1.0   2.0\n",
       "Spuyten Duyvil                0.0            1.0   1.0\n",
       "Stapleton                     2.0            2.0   3.0\n",
       "Upper East Side               1.0            1.0   0.0\n",
       "Upper West Side               0.0            2.0   2.0"
      ]
     },
     "execution_count": 120,
     "metadata": {},
     "output_type": "execute_result"
    }
   ],
   "source": [
    "med_am = data.groupby('Neighbourhood')[['Air_Condition', 'Baths_cleaned', 'Beds']].median()\n",
    "med_am"
   ]
  },
  {
   "cell_type": "markdown",
   "metadata": {},
   "source": [
    "Now, we incorporate neighbourhoods to see if the different amenities offered differ from different neighborhoods. Because of the anova test above, we know that amenities have statistical significance, meaning they directly affect property prices. In this case, we can assume that the more amenities seen in a neighborhood, the higher the property prices are in that neighborhood. In this case, we can see that New Brighton has the highest amount of baths, making its property more expensive. Additionally, all the neighborhoods with the median of 2 for air conditioning are more expensive than the ones with 0. For example, Mill Basin is more expensive than Midtown. See below for a direct comparison of their prices to show this example:\n"
   ]
  },
  {
   "cell_type": "code",
   "execution_count": 121,
   "metadata": {},
   "outputs": [
    {
     "data": {
      "text/plain": [
       "25     1\n",
       "65     1\n",
       "105    1\n",
       "145    1\n",
       "185    1\n",
       "225    1\n",
       "265    1\n",
       "305    1\n",
       "345    1\n",
       "385    1\n",
       "Name: Price, dtype: int64"
      ]
     },
     "execution_count": 121,
     "metadata": {},
     "output_type": "execute_result"
    }
   ],
   "source": [
    "data[data['Neighbourhood'] == 'Mill Basin']['Price']"
   ]
  },
  {
   "cell_type": "code",
   "execution_count": 122,
   "metadata": {},
   "outputs": [
    {
     "data": {
      "text/plain": [
       "14     752\n",
       "54     752\n",
       "94     752\n",
       "134    752\n",
       "174    752\n",
       "214    752\n",
       "254    752\n",
       "294    752\n",
       "334    752\n",
       "374    752\n",
       "Name: Price, dtype: int64"
      ]
     },
     "execution_count": 122,
     "metadata": {},
     "output_type": "execute_result"
    }
   ],
   "source": [
    "data[data['Neighbourhood'] == 'Midtown']['Price']"
   ]
  },
  {
   "cell_type": "code",
   "execution_count": 123,
   "metadata": {},
   "outputs": [
    {
     "data": {
      "text/plain": [
       "<seaborn.axisgrid.PairGrid at 0x132d23090>"
      ]
     },
     "execution_count": 123,
     "metadata": {},
     "output_type": "execute_result"
    },
    {
     "data": {
      "image/png": "[encoded data removed]",
      "text/plain": [
       "<Figure size 937.25x250 with 3 Axes>"
      ]
     },
     "metadata": {},
     "output_type": "display_data"
    }
   ],
   "source": [
    "sns.pairplot(\n",
    "    data, hue='Neighbourhood',\n",
    "    x_vars=[\"Air_Condition\", \"Baths_cleaned\", \"Beds\"],\n",
    "    y_vars=[\"Price\"])"
   ]
  },
  {
   "cell_type": "markdown",
   "metadata": {},
   "source": [
    "The pairplots above shows a visual representation of our regression analysis. As you can see, we were able to determine that Air Conditioning, the Number of Baths, and the Number of Beds all had a statistically significant (at a 95% confidence level) effect (p<0.05) on property prices in New York. The biggest impact is with the number of bathrooms."
   ]
  },
  {
   "cell_type": "markdown",
   "metadata": {},
   "source": []
  },
  {
   "cell_type": "markdown",
   "metadata": {},
   "source": []
  },
  {
   "cell_type": "code",
   "execution_count": null,
   "metadata": {},
   "outputs": [],
   "source": []
  }
 ],
 "metadata": {
  "kernelspec": {
   "display_name": "base",
   "language": "python",
   "name": "python3"
  },
  "language_info": {
   "codemirror_mode": {
    "name": "ipython",
    "version": 3
   },
   "file_extension": ".py",
   "mimetype": "text/x-python",
   "name": "python",
   "nbconvert_exporter": "python",
   "pygments_lexer": "ipython3",
   "version": "3.11.4"
  }
 },
 "nbformat": 4,
 "nbformat_minor": 2
}
